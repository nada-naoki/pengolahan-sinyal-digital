{
 "cells": [
  {
   "cell_type": "code",
   "execution_count": 5,
   "id": "1db81aa5",
   "metadata": {},
   "outputs": [
    {
     "name": "stdout",
     "output_type": "stream",
     "text": [
      "Hasil Konvolusi Manual: [1.  2.5 4.  1.5]\n"
     ]
    },
    {
     "data": {
      "image/png": "[encoded data removed]",
      "text/plain": [
       "<Figure size 432x288 with 1 Axes>"
      ]
     },
     "metadata": {
      "needs_background": "light"
     },
     "output_type": "display_data"
    }
   ],
   "source": [
    "import numpy as np\n",
    "import matplotlib.pyplot as plt\n",
    "\n",
    "# Definisikan sinyal x[k] dan h[k]\n",
    "x = np.array([1, 2, 3])\n",
    "h = np.array([1, 0.5])\n",
    "\n",
    "# Fungsi untuk konvolusi\n",
    "def manual_convolve(x, h):\n",
    "    N = len(x)\n",
    "    M = len(h)\n",
    "    y = np.zeros(N + M - 1)\n",
    "\n",
    "    for n in range(N + M - 1):\n",
    "        for k in range(N):\n",
    "            if n - k >= 0 and n - k < M:\n",
    "                y[n] += x[k] * h[n - k]\n",
    "    return y\n",
    "\n",
    "# Menggunakan fungsi konvolusi manual\n",
    "y_manual = manual_convolve(x, h)\n",
    "print(\"Hasil Konvolusi Manual:\", y_manual)\n",
    "\n",
    "# Plot hasil konvolusi y[k]\n",
    "plt.stem(y_manual, use_line_collection=True)\n",
    "plt.title('Hasil Konvolusi y[n]')\n",
    "plt.xlabel('n')\n",
    "plt.ylabel('y[n]')\n",
    "\n",
    "# Menampilkan plot\n",
    "plt.tight_layout()\n",
    "plt.show()\n"
   ]
  },
  {
   "cell_type": "code",
   "execution_count": null,
   "id": "284d93cc",
   "metadata": {},
   "outputs": [],
   "source": []
  }
 ],
 "metadata": {
  "kernelspec": {
   "display_name": "Python 3 (ipykernel)",
   "language": "python",
   "name": "python3"
  },
  "language_info": {
   "codemirror_mode": {
    "name": "ipython",
    "version": 3
   },
   "file_extension": ".py",
   "mimetype": "text/x-python",
   "name": "python",
   "nbconvert_exporter": "python",
   "pygments_lexer": "ipython3",
   "version": "3.9.12"
  },
  "toc": {
   "base_numbering": 1,
   "nav_menu": {},
   "number_sections": true,
   "sideBar": true,
   "skip_h1_title": false,
   "title_cell": "Table of Contents",
   "title_sidebar": "Contents",
   "toc_cell": false,
   "toc_position": {},
   "toc_section_display": true,
   "toc_window_display": false
  }
 },
 "nbformat": 4,
 "nbformat_minor": 5
}
